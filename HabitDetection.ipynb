{
  "nbformat": 4,
  "nbformat_minor": 0,
  "metadata": {
    "colab": {
      "provenance": [],
      "authorship_tag": "ABX9TyOpzfNaXvxTjjflOAP2qOyu",
      "include_colab_link": true
    },
    "kernelspec": {
      "name": "python3",
      "display_name": "Python 3"
    },
    "language_info": {
      "name": "python"
    }
  },
  "cells": [
    {
      "cell_type": "markdown",
      "metadata": {
        "id": "view-in-github",
        "colab_type": "text"
      },
      "source": [
        "<a href=\"https://colab.research.google.com/github/renjanay/AinayyaFirda/blob/main/HabitDetection.ipynb\" target=\"_parent\"><img src=\"https://colab.research.google.com/assets/colab-badge.svg\" alt=\"Open In Colab\"/></a>"
      ]
    },
    {
      "cell_type": "code",
      "source": [
        "# Import necessary libraries\n",
        "import pandas as pd\n",
        "from sklearn.model_selection import train_test_split\n",
        "from sklearn.preprocessing import OneHotEncoder, StandardScaler\n",
        "from sklearn.linear_model import LogisticRegression\n",
        "from sklearn.metrics import accuracy_score"
      ],
      "metadata": {
        "id": "rNRdH1fhFM19"
      },
      "execution_count": 1,
      "outputs": []
    },
    {
      "cell_type": "code",
      "source": [
        "# Generate a synthetic dataset (replace this with your actual user data)\n",
        "data = {\n",
        "    'Habit Type': ['Exercise', 'Reading', 'Exercise', 'Meditation', 'Reading'],\n",
        "    'Time of Completion': [8, 19, 7, 6, 21],\n",
        "    'Success Rate': [0.9, 0.8, 0.7, 0.95, 0.75],\n",
        "    'Completed': [1, 1, 0, 1, 0]\n",
        "}\n",
        "df = pd.DataFrame(data)"
      ],
      "metadata": {
        "id": "N6tWoEcmGADY"
      },
      "execution_count": 3,
      "outputs": []
    }
  ]
}